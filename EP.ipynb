{
 "cells": [
  {
   "cell_type": "markdown",
   "id": "bcca369f",
   "metadata": {},
   "source": [
    "# IMPORTS"
   ]
  },
  {
   "cell_type": "code",
   "execution_count": 5,
   "id": "3112fa21",
   "metadata": {},
   "outputs": [],
   "source": [
    "import os\n",
    "import pandas as pd\n",
    "import numpy as np\n",
    "import re\n",
    "import unicodedata\n",
    "from sklearn.model_selection import train_test_split, StratifiedKFold, cross_val_score\n",
    "from sklearn.feature_extraction.text import TfidfVectorizer\n",
    "from sklearn.linear_model import LogisticRegression\n",
    "from sklearn.pipeline import make_pipeline\n",
    "from sklearn.preprocessing import LabelEncoder\n",
    "from sklearn.metrics import accuracy_score\n",
    "from sklearn.utils import shuffle"
   ]
  },
  {
   "cell_type": "markdown",
   "id": "001665b0",
   "metadata": {},
   "source": [
    "# CONFIGURAÇÕES"
   ]
  },
  {
   "cell_type": "code",
   "execution_count": null,
   "id": "11b7c9c1",
   "metadata": {},
   "outputs": [],
   "source": [
    "BASE_FOLDER_TRAIN = \"treino\"\n",
    "\n",
    "FILES = [\n",
    "    \"train_literal_dinamico.csv\",\n",
    "    \"train_complexo_simples.csv\",\n",
    "    \"train_arcaico_moderno.csv\",\n",
    "]\n",
    "\n",
    "preprocess_params = {\n",
    "    \"lowercase\": True,\n",
    "    \"normalize_unicode\": False,\n",
    "    \"remove_extra_whitespace\": True,\n",
    "    \"remove_punct\": False,\n",
    "}"
   ]
  },
  {
   "cell_type": "markdown",
   "id": "af2c9bcd",
   "metadata": {},
   "source": [
    "# PRÉ-PROCESSAMENTO"
   ]
  },
  {
   "cell_type": "code",
   "execution_count": 10,
   "id": "93b8d1a7",
   "metadata": {},
   "outputs": [],
   "source": [
    "def preprocess_operations(text, params):\n",
    "    if not isinstance(text, str):\n",
    "        return \"\"\n",
    "    if params.get(\"normalize_unicode\", True):\n",
    "        text = unicodedata.normalize(\"NFKC\", text)\n",
    "    if params.get(\"lowercase\", True):\n",
    "        text = text.lower()\n",
    "    if params.get(\"remove_punct\", False):\n",
    "        text = re.sub(r\"[^\\w\\s]\", \" \", text)\n",
    "    if params.get(\"remove_extra_whitespace\", True):\n",
    "        text = re.sub(r\"\\s+\", \" \", text).strip()\n",
    "    return text\n",
    "\n",
    "def preprocess_data(path):\n",
    "    if not os.path.exists(path):\n",
    "        print(f\"Aviso: {path} não encontrado.\")\n",
    "        return None\n",
    "\n",
    "    df = pd.read_csv(path, sep=\";\")\n",
    "    col_text, col_label = \"text\", \"style\"\n",
    "\n",
    "    df = df[[col_text, col_label]].dropna()\n",
    "    df = shuffle(df, random_state=10).reset_index(drop=True)\n",
    "\n",
    "    df[\"text_preproc\"] = df[col_text].apply(lambda x: preprocess_operations(x, preprocess_params))\n",
    "\n",
    "    le = LabelEncoder()\n",
    "    y = le.fit_transform(df[col_label])\n",
    "    X = df[\"text_preproc\"].values\n",
    "\n",
    "    X_train, X_test, y_train, y_test = train_test_split(\n",
    "        X, y, test_size=0.15, stratify=y, random_state=10\n",
    "    )\n",
    "\n",
    "    return X_train, X_test, y_train, y_test"
   ]
  },
  {
   "cell_type": "code",
   "execution_count": 11,
   "id": "69a3aeee",
   "metadata": {},
   "outputs": [
    {
     "name": "stdout",
     "output_type": "stream",
     "text": [
      "\n",
      "Processando: train_literal_dinamico.csv\n",
      "\n",
      "Processando: train_complexo_simples.csv\n",
      "\n",
      "Processando: train_arcaico_moderno.csv\n"
     ]
    }
   ],
   "source": [
    "datasets = {}\n",
    "\n",
    "for file_name in FILES:\n",
    "    path = os.path.join(BASE_FOLDER_TRAIN, file_name)\n",
    "    print(f\"\\nProcessando: {file_name}\")\n",
    "    result = preprocess_data(path) \n",
    "\n",
    "    if result is not None:\n",
    "        X_train, X_test, y_train, y_test = result\n",
    "        datasets[file_name] = {\n",
    "            \"X_train\": X_train,\n",
    "            \"X_test\": X_test,\n",
    "            \"y_train\": y_train,\n",
    "            \"y_test\": y_test\n",
    "        }"
   ]
  }
 ],
 "metadata": {
  "kernelspec": {
   "display_name": "Python 3",
   "language": "python",
   "name": "python3"
  },
  "language_info": {
   "codemirror_mode": {
    "name": "ipython",
    "version": 3
   },
   "file_extension": ".py",
   "mimetype": "text/x-python",
   "name": "python",
   "nbconvert_exporter": "python",
   "pygments_lexer": "ipython3",
   "version": "3.11.9"
  }
 },
 "nbformat": 4,
 "nbformat_minor": 5
}
